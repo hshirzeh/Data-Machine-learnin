{
  "nbformat": 4,
  "nbformat_minor": 0,
  "metadata": {
    "kernelspec": {
      "display_name": "Python 3",
      "language": "python",
      "name": "python3"
    },
    "language_info": {
      "codemirror_mode": {
        "name": "ipython",
        "version": 3
      },
      "file_extension": ".py",
      "mimetype": "text/x-python",
      "name": "python",
      "nbconvert_exporter": "python",
      "pygments_lexer": "ipython3",
      "version": "3.6.6"
    },
    "toc": {
      "base_numbering": 1,
      "nav_menu": {
        "height": "12px",
        "width": "252px"
      },
      "number_sections": true,
      "sideBar": true,
      "skip_h1_title": false,
      "title_cell": "Table of Contents",
      "title_sidebar": "Contents",
      "toc_cell": false,
      "toc_position": {},
      "toc_section_display": "block",
      "toc_window_display": false
    },
    "varInspector": {
      "cols": {
        "lenName": 16,
        "lenType": 16,
        "lenVar": 40
      },
      "kernels_config": {
        "python": {
          "delete_cmd_postfix": "",
          "delete_cmd_prefix": "del ",
          "library": "var_list.py",
          "varRefreshCmd": "print(var_dic_list())"
        },
        "r": {
          "delete_cmd_postfix": ") ",
          "delete_cmd_prefix": "rm(",
          "library": "var_list.r",
          "varRefreshCmd": "cat(var_dic_list()) "
        }
      },
      "types_to_exclude": [
        "module",
        "function",
        "builtin_function_or_method",
        "instance",
        "_Feature"
      ],
      "window_display": false
    },
    "colab": {
      "name": "3.Long-term-frequencies.ipynb",
      "provenance": [],
      "include_colab_link": true
    }
  },
  "cells": [
    {
      "cell_type": "markdown",
      "metadata": {
        "id": "view-in-github",
        "colab_type": "text"
      },
      "source": [
        "<a href=\"https://colab.research.google.com/github/hshirzeh/Data-Machine-learnin/blob/main/3_Long_term_frequencies.ipynb\" target=\"_parent\"><img src=\"https://colab.research.google.com/assets/colab-badge.svg\" alt=\"Open In Colab\"/></a>"
      ]
    },
    {
      "cell_type": "code",
      "metadata": {
        "colab": {
          "base_uri": "https://localhost:8080/"
        },
        "id": "HVmwfSYBCgZv",
        "outputId": "5d17ee62-b384-40a7-c550-a93e2993b6a1"
      },
      "source": [
        "%pylab inline"
      ],
      "execution_count": 1,
      "outputs": [
        {
          "output_type": "stream",
          "text": [
            "Populating the interactive namespace from numpy and matplotlib\n"
          ],
          "name": "stdout"
        }
      ]
    },
    {
      "cell_type": "code",
      "metadata": {
        "colab": {
          "base_uri": "https://localhost:8080/"
        },
        "id": "BYZ93rS9CgZ0",
        "outputId": "57248699-1835-4df3-a4e9-b216fba749e8"
      },
      "source": [
        "#Create list of color symbols\n",
        "red_bck=\"\\x1b[41m%s\\x1b[0m\"\n",
        "green_bck=\"\\x1b[42m%s\\x1b[0m\"\n",
        "tan_bck=\"\\x1b[43m%s\\x1b[0m\"\n",
        "blue_bck=\"\\x1b[44m%s\\x1b[0m\"\n",
        "sym=[red_bck%'6',green_bck%'1',tan_bck%'3',blue_bck%'4']\n",
        "print(sym[0],sym[1],sym[2],sym[3])"
      ],
      "execution_count": 2,
      "outputs": [
        {
          "output_type": "stream",
          "text": [
            "\u001b[41m6\u001b[0m \u001b[42m1\u001b[0m \u001b[43m3\u001b[0m \u001b[44m4\u001b[0m\n"
          ],
          "name": "stdout"
        }
      ]
    },
    {
      "cell_type": "code",
      "metadata": {
        "colab": {
          "base_uri": "https://localhost:8080/"
        },
        "id": "U1mLb4BKCgZ2",
        "outputId": "a6e598c7-1197-4f54-c595-fd7e2b2ef296"
      },
      "source": [
        "p=[0.0,0.1,0.2,0.3,0.4]\n",
        "c=cumsum(p)\n",
        "for i in range(4):\n",
        "    print('symbol=%s, probability=%5.3f'%(sym[i],p[i]))"
      ],
      "execution_count": 3,
      "outputs": [
        {
          "output_type": "stream",
          "text": [
            "symbol=\u001b[41m6\u001b[0m, probability=0.000\n",
            "symbol=\u001b[42m1\u001b[0m, probability=0.100\n",
            "symbol=\u001b[43m3\u001b[0m, probability=0.200\n",
            "symbol=\u001b[44m4\u001b[0m, probability=0.300\n"
          ],
          "name": "stdout"
        }
      ]
    },
    {
      "cell_type": "code",
      "metadata": {
        "id": "USUwLnfJCgZ3"
      },
      "source": [
        "def rand2sym(vec):\n",
        "    \"\"\" Transform an array of random numbers, distributed uniformly in [0,1]\n",
        "    into a sequence of symbols, chosen according to the probabilities defined by c (cumul of p)\"\"\"\n",
        "    ans=[]\n",
        "    counts={i:0 for i in range(4)}\n",
        "    for x in vec:\n",
        "        for i in range(len(c)-1):\n",
        "            if x>=c[i] and x<c[i+1]:\n",
        "                ans.append(sym[i])\n",
        "                counts[i]+=1\n",
        "                break\n",
        "    return ans,counts"
      ],
      "execution_count": 4,
      "outputs": []
    },
    {
      "cell_type": "code",
      "metadata": {
        "colab": {
          "base_uri": "https://localhost:8080/"
        },
        "id": "5wZAAdNzCgZ3",
        "outputId": "ae27df45-6c57-4201-9e72-fcac53bf0c1a"
      },
      "source": [
        "n=1000\n",
        "R=np.random.rand(n)\n",
        "_syms,counts=rand2sym(R)\n",
        "print(''.join(_syms))\n",
        "#print counts\n",
        "f=[float(y)/n for x,y in counts.items()]\n",
        "print()\n",
        "#print 'number of trials (n)=',n\n",
        "for i in range(4):\n",
        "    print('%s probability=%3.2f frequency= %d/%d = %3.2f '%(sym[i],p[i+1],counts[i],n,f[i]))"
      ],
      "execution_count": 10,
      "outputs": [
        {
          "output_type": "stream",
          "text": [
            "\u001b[44m4\u001b[0m\u001b[42m1\u001b[0m\u001b[44m4\u001b[0m\u001b[43m3\u001b[0m\u001b[41m6\u001b[0m\u001b[44m4\u001b[0m\u001b[42m1\u001b[0m\u001b[44m4\u001b[0m\u001b[43m3\u001b[0m\u001b[44m4\u001b[0m\u001b[41m6\u001b[0m\u001b[43m3\u001b[0m\u001b[42m1\u001b[0m\u001b[44m4\u001b[0m\u001b[42m1\u001b[0m\u001b[43m3\u001b[0m\u001b[44m4\u001b[0m\u001b[42m1\u001b[0m\u001b[44m4\u001b[0m\u001b[41m6\u001b[0m\u001b[42m1\u001b[0m\u001b[44m4\u001b[0m\u001b[43m3\u001b[0m\u001b[44m4\u001b[0m\u001b[42m1\u001b[0m\u001b[43m3\u001b[0m\u001b[44m4\u001b[0m\u001b[42m1\u001b[0m\u001b[43m3\u001b[0m\u001b[42m1\u001b[0m\u001b[43m3\u001b[0m\u001b[43m3\u001b[0m\u001b[44m4\u001b[0m\u001b[42m1\u001b[0m\u001b[44m4\u001b[0m\u001b[43m3\u001b[0m\u001b[44m4\u001b[0m\u001b[44m4\u001b[0m\u001b[44m4\u001b[0m\u001b[44m4\u001b[0m\u001b[44m4\u001b[0m\u001b[43m3\u001b[0m\u001b[43m3\u001b[0m\u001b[43m3\u001b[0m\u001b[42m1\u001b[0m\u001b[43m3\u001b[0m\u001b[42m1\u001b[0m\u001b[43m3\u001b[0m\u001b[43m3\u001b[0m\u001b[43m3\u001b[0m\u001b[44m4\u001b[0m\u001b[43m3\u001b[0m\u001b[42m1\u001b[0m\u001b[43m3\u001b[0m\u001b[43m3\u001b[0m\u001b[44m4\u001b[0m\u001b[42m1\u001b[0m\u001b[44m4\u001b[0m\u001b[42m1\u001b[0m\u001b[44m4\u001b[0m\u001b[43m3\u001b[0m\u001b[41m6\u001b[0m\u001b[43m3\u001b[0m\u001b[43m3\u001b[0m\u001b[44m4\u001b[0m\u001b[41m6\u001b[0m\u001b[44m4\u001b[0m\u001b[43m3\u001b[0m\u001b[44m4\u001b[0m\u001b[43m3\u001b[0m\u001b[42m1\u001b[0m\u001b[44m4\u001b[0m\u001b[44m4\u001b[0m\u001b[43m3\u001b[0m\u001b[44m4\u001b[0m\u001b[42m1\u001b[0m\u001b[44m4\u001b[0m\u001b[44m4\u001b[0m\u001b[44m4\u001b[0m\u001b[42m1\u001b[0m\u001b[42m1\u001b[0m\u001b[44m4\u001b[0m\u001b[43m3\u001b[0m\u001b[42m1\u001b[0m\u001b[44m4\u001b[0m\u001b[43m3\u001b[0m\u001b[44m4\u001b[0m\u001b[42m1\u001b[0m\u001b[44m4\u001b[0m\u001b[43m3\u001b[0m\u001b[42m1\u001b[0m\u001b[43m3\u001b[0m\u001b[42m1\u001b[0m\u001b[42m1\u001b[0m\u001b[42m1\u001b[0m\u001b[43m3\u001b[0m\u001b[43m3\u001b[0m\u001b[42m1\u001b[0m\u001b[44m4\u001b[0m\u001b[44m4\u001b[0m\u001b[42m1\u001b[0m\u001b[43m3\u001b[0m\u001b[44m4\u001b[0m\u001b[44m4\u001b[0m\u001b[43m3\u001b[0m\u001b[42m1\u001b[0m\u001b[44m4\u001b[0m\u001b[44m4\u001b[0m\u001b[43m3\u001b[0m\u001b[44m4\u001b[0m\u001b[44m4\u001b[0m\u001b[41m6\u001b[0m\u001b[42m1\u001b[0m\u001b[43m3\u001b[0m\u001b[43m3\u001b[0m\u001b[42m1\u001b[0m\u001b[43m3\u001b[0m\u001b[42m1\u001b[0m\u001b[42m1\u001b[0m\u001b[42m1\u001b[0m\u001b[44m4\u001b[0m\u001b[42m1\u001b[0m\u001b[43m3\u001b[0m\u001b[44m4\u001b[0m\u001b[42m1\u001b[0m\u001b[44m4\u001b[0m\u001b[42m1\u001b[0m\u001b[44m4\u001b[0m\u001b[41m6\u001b[0m\u001b[41m6\u001b[0m\u001b[44m4\u001b[0m\u001b[42m1\u001b[0m\u001b[41m6\u001b[0m\u001b[43m3\u001b[0m\u001b[42m1\u001b[0m\u001b[44m4\u001b[0m\u001b[44m4\u001b[0m\u001b[42m1\u001b[0m\u001b[44m4\u001b[0m\u001b[43m3\u001b[0m\u001b[42m1\u001b[0m\u001b[42m1\u001b[0m\u001b[44m4\u001b[0m\u001b[44m4\u001b[0m\u001b[44m4\u001b[0m\u001b[44m4\u001b[0m\u001b[43m3\u001b[0m\u001b[44m4\u001b[0m\u001b[44m4\u001b[0m\u001b[44m4\u001b[0m\u001b[44m4\u001b[0m\u001b[43m3\u001b[0m\u001b[44m4\u001b[0m\u001b[43m3\u001b[0m\u001b[43m3\u001b[0m\u001b[44m4\u001b[0m\u001b[41m6\u001b[0m\u001b[42m1\u001b[0m\u001b[42m1\u001b[0m\u001b[42m1\u001b[0m\u001b[43m3\u001b[0m\u001b[42m1\u001b[0m\u001b[43m3\u001b[0m\u001b[43m3\u001b[0m\u001b[44m4\u001b[0m\u001b[42m1\u001b[0m\u001b[42m1\u001b[0m\u001b[44m4\u001b[0m\u001b[43m3\u001b[0m\u001b[43m3\u001b[0m\u001b[42m1\u001b[0m\u001b[42m1\u001b[0m\u001b[42m1\u001b[0m\u001b[44m4\u001b[0m\u001b[42m1\u001b[0m\u001b[44m4\u001b[0m\u001b[44m4\u001b[0m\u001b[43m3\u001b[0m\u001b[43m3\u001b[0m\u001b[44m4\u001b[0m\u001b[44m4\u001b[0m\u001b[44m4\u001b[0m\u001b[43m3\u001b[0m\u001b[42m1\u001b[0m\u001b[43m3\u001b[0m\u001b[44m4\u001b[0m\u001b[43m3\u001b[0m\u001b[44m4\u001b[0m\u001b[42m1\u001b[0m\u001b[43m3\u001b[0m\u001b[43m3\u001b[0m\u001b[42m1\u001b[0m\u001b[43m3\u001b[0m\u001b[44m4\u001b[0m\u001b[44m4\u001b[0m\u001b[43m3\u001b[0m\u001b[42m1\u001b[0m\u001b[44m4\u001b[0m\u001b[44m4\u001b[0m\u001b[44m4\u001b[0m\u001b[43m3\u001b[0m\u001b[43m3\u001b[0m\u001b[41m6\u001b[0m\u001b[44m4\u001b[0m\u001b[44m4\u001b[0m\u001b[43m3\u001b[0m\u001b[44m4\u001b[0m\u001b[42m1\u001b[0m\u001b[43m3\u001b[0m\u001b[44m4\u001b[0m\u001b[41m6\u001b[0m\u001b[43m3\u001b[0m\u001b[42m1\u001b[0m\u001b[44m4\u001b[0m\u001b[42m1\u001b[0m\u001b[44m4\u001b[0m\u001b[43m3\u001b[0m\u001b[43m3\u001b[0m\u001b[42m1\u001b[0m\u001b[42m1\u001b[0m\u001b[44m4\u001b[0m\u001b[44m4\u001b[0m\u001b[42m1\u001b[0m\u001b[42m1\u001b[0m\u001b[43m3\u001b[0m\u001b[43m3\u001b[0m\u001b[42m1\u001b[0m\u001b[44m4\u001b[0m\u001b[42m1\u001b[0m\u001b[44m4\u001b[0m\u001b[42m1\u001b[0m\u001b[43m3\u001b[0m\u001b[42m1\u001b[0m\u001b[44m4\u001b[0m\u001b[44m4\u001b[0m\u001b[42m1\u001b[0m\u001b[43m3\u001b[0m\u001b[44m4\u001b[0m\u001b[42m1\u001b[0m\u001b[44m4\u001b[0m\u001b[44m4\u001b[0m\u001b[43m3\u001b[0m\u001b[44m4\u001b[0m\u001b[43m3\u001b[0m\u001b[42m1\u001b[0m\u001b[44m4\u001b[0m\u001b[43m3\u001b[0m\u001b[43m3\u001b[0m\u001b[44m4\u001b[0m\u001b[43m3\u001b[0m\u001b[41m6\u001b[0m\u001b[43m3\u001b[0m\u001b[42m1\u001b[0m\u001b[44m4\u001b[0m\u001b[44m4\u001b[0m\u001b[41m6\u001b[0m\u001b[44m4\u001b[0m\u001b[43m3\u001b[0m\u001b[42m1\u001b[0m\u001b[41m6\u001b[0m\u001b[42m1\u001b[0m\u001b[44m4\u001b[0m\u001b[43m3\u001b[0m\u001b[43m3\u001b[0m\u001b[43m3\u001b[0m\u001b[42m1\u001b[0m\u001b[42m1\u001b[0m\u001b[44m4\u001b[0m\u001b[43m3\u001b[0m\u001b[43m3\u001b[0m\u001b[43m3\u001b[0m\u001b[43m3\u001b[0m\u001b[44m4\u001b[0m\u001b[44m4\u001b[0m\u001b[43m3\u001b[0m\u001b[43m3\u001b[0m\u001b[42m1\u001b[0m\u001b[44m4\u001b[0m\u001b[44m4\u001b[0m\u001b[41m6\u001b[0m\u001b[42m1\u001b[0m\u001b[44m4\u001b[0m\u001b[44m4\u001b[0m\u001b[42m1\u001b[0m\u001b[42m1\u001b[0m\u001b[43m3\u001b[0m\u001b[42m1\u001b[0m\u001b[42m1\u001b[0m\u001b[43m3\u001b[0m\u001b[43m3\u001b[0m\u001b[41m6\u001b[0m\u001b[44m4\u001b[0m\u001b[42m1\u001b[0m\u001b[43m3\u001b[0m\u001b[44m4\u001b[0m\u001b[43m3\u001b[0m\u001b[42m1\u001b[0m\u001b[44m4\u001b[0m\u001b[42m1\u001b[0m\u001b[44m4\u001b[0m\u001b[43m3\u001b[0m\u001b[43m3\u001b[0m\u001b[41m6\u001b[0m\u001b[43m3\u001b[0m\u001b[42m1\u001b[0m\u001b[42m1\u001b[0m\u001b[43m3\u001b[0m\u001b[44m4\u001b[0m\u001b[44m4\u001b[0m\u001b[41m6\u001b[0m\u001b[44m4\u001b[0m\u001b[44m4\u001b[0m\u001b[44m4\u001b[0m\u001b[43m3\u001b[0m\u001b[44m4\u001b[0m\u001b[44m4\u001b[0m\u001b[42m1\u001b[0m\u001b[44m4\u001b[0m\u001b[44m4\u001b[0m\u001b[41m6\u001b[0m\u001b[41m6\u001b[0m\u001b[44m4\u001b[0m\u001b[44m4\u001b[0m\u001b[43m3\u001b[0m\u001b[43m3\u001b[0m\u001b[44m4\u001b[0m\u001b[44m4\u001b[0m\u001b[43m3\u001b[0m\u001b[42m1\u001b[0m\u001b[41m6\u001b[0m\u001b[42m1\u001b[0m\u001b[43m3\u001b[0m\u001b[43m3\u001b[0m\u001b[42m1\u001b[0m\u001b[44m4\u001b[0m\u001b[42m1\u001b[0m\u001b[41m6\u001b[0m\u001b[42m1\u001b[0m\u001b[41m6\u001b[0m\u001b[42m1\u001b[0m\u001b[43m3\u001b[0m\u001b[42m1\u001b[0m\u001b[44m4\u001b[0m\u001b[41m6\u001b[0m\u001b[42m1\u001b[0m\u001b[42m1\u001b[0m\u001b[42m1\u001b[0m\u001b[44m4\u001b[0m\u001b[42m1\u001b[0m\u001b[44m4\u001b[0m\u001b[41m6\u001b[0m\u001b[43m3\u001b[0m\u001b[43m3\u001b[0m\u001b[44m4\u001b[0m\u001b[44m4\u001b[0m\u001b[44m4\u001b[0m\u001b[43m3\u001b[0m\u001b[44m4\u001b[0m\u001b[43m3\u001b[0m\u001b[43m3\u001b[0m\u001b[41m6\u001b[0m\u001b[43m3\u001b[0m\u001b[44m4\u001b[0m\u001b[43m3\u001b[0m\u001b[42m1\u001b[0m\u001b[43m3\u001b[0m\u001b[44m4\u001b[0m\u001b[43m3\u001b[0m\u001b[43m3\u001b[0m\u001b[42m1\u001b[0m\u001b[44m4\u001b[0m\u001b[42m1\u001b[0m\u001b[43m3\u001b[0m\u001b[43m3\u001b[0m\u001b[42m1\u001b[0m\u001b[44m4\u001b[0m\u001b[42m1\u001b[0m\u001b[44m4\u001b[0m\u001b[44m4\u001b[0m\u001b[42m1\u001b[0m\u001b[42m1\u001b[0m\u001b[43m3\u001b[0m\u001b[44m4\u001b[0m\u001b[43m3\u001b[0m\u001b[43m3\u001b[0m\u001b[42m1\u001b[0m\u001b[44m4\u001b[0m\u001b[43m3\u001b[0m\u001b[44m4\u001b[0m\u001b[41m6\u001b[0m\u001b[44m4\u001b[0m\u001b[44m4\u001b[0m\u001b[42m1\u001b[0m\u001b[44m4\u001b[0m\u001b[41m6\u001b[0m\u001b[41m6\u001b[0m\u001b[43m3\u001b[0m\u001b[42m1\u001b[0m\u001b[43m3\u001b[0m\u001b[43m3\u001b[0m\u001b[43m3\u001b[0m\u001b[44m4\u001b[0m\u001b[43m3\u001b[0m\u001b[42m1\u001b[0m\u001b[44m4\u001b[0m\u001b[43m3\u001b[0m\u001b[44m4\u001b[0m\u001b[44m4\u001b[0m\u001b[42m1\u001b[0m\u001b[43m3\u001b[0m\u001b[41m6\u001b[0m\u001b[41m6\u001b[0m\u001b[44m4\u001b[0m\u001b[41m6\u001b[0m\u001b[42m1\u001b[0m\u001b[43m3\u001b[0m\u001b[42m1\u001b[0m\u001b[42m1\u001b[0m\u001b[44m4\u001b[0m\u001b[41m6\u001b[0m\u001b[43m3\u001b[0m\u001b[43m3\u001b[0m\u001b[43m3\u001b[0m\u001b[44m4\u001b[0m\u001b[43m3\u001b[0m\u001b[44m4\u001b[0m\u001b[44m4\u001b[0m\u001b[43m3\u001b[0m\u001b[43m3\u001b[0m\u001b[43m3\u001b[0m\u001b[44m4\u001b[0m\u001b[42m1\u001b[0m\u001b[42m1\u001b[0m\u001b[44m4\u001b[0m\u001b[43m3\u001b[0m\u001b[44m4\u001b[0m\u001b[43m3\u001b[0m\u001b[44m4\u001b[0m\u001b[44m4\u001b[0m\u001b[44m4\u001b[0m\u001b[43m3\u001b[0m\u001b[44m4\u001b[0m\u001b[44m4\u001b[0m\u001b[44m4\u001b[0m\u001b[42m1\u001b[0m\u001b[44m4\u001b[0m\u001b[44m4\u001b[0m\u001b[43m3\u001b[0m\u001b[44m4\u001b[0m\u001b[43m3\u001b[0m\u001b[43m3\u001b[0m\u001b[42m1\u001b[0m\u001b[44m4\u001b[0m\u001b[41m6\u001b[0m\u001b[43m3\u001b[0m\u001b[43m3\u001b[0m\u001b[42m1\u001b[0m\u001b[44m4\u001b[0m\u001b[44m4\u001b[0m\u001b[43m3\u001b[0m\u001b[42m1\u001b[0m\u001b[43m3\u001b[0m\u001b[44m4\u001b[0m\u001b[43m3\u001b[0m\u001b[43m3\u001b[0m\u001b[44m4\u001b[0m\u001b[42m1\u001b[0m\u001b[42m1\u001b[0m\u001b[43m3\u001b[0m\u001b[41m6\u001b[0m\u001b[43m3\u001b[0m\u001b[44m4\u001b[0m\u001b[44m4\u001b[0m\u001b[44m4\u001b[0m\u001b[43m3\u001b[0m\u001b[43m3\u001b[0m\u001b[43m3\u001b[0m\u001b[44m4\u001b[0m\u001b[43m3\u001b[0m\u001b[43m3\u001b[0m\u001b[43m3\u001b[0m\u001b[41m6\u001b[0m\u001b[44m4\u001b[0m\u001b[43m3\u001b[0m\u001b[44m4\u001b[0m\u001b[43m3\u001b[0m\u001b[44m4\u001b[0m\u001b[41m6\u001b[0m\u001b[43m3\u001b[0m\u001b[44m4\u001b[0m\u001b[44m4\u001b[0m\u001b[44m4\u001b[0m\u001b[44m4\u001b[0m\u001b[42m1\u001b[0m\u001b[43m3\u001b[0m\u001b[44m4\u001b[0m\u001b[43m3\u001b[0m\u001b[43m3\u001b[0m\u001b[42m1\u001b[0m\u001b[43m3\u001b[0m\u001b[44m4\u001b[0m\u001b[44m4\u001b[0m\u001b[41m6\u001b[0m\u001b[43m3\u001b[0m\u001b[41m6\u001b[0m\u001b[42m1\u001b[0m\u001b[44m4\u001b[0m\u001b[42m1\u001b[0m\u001b[43m3\u001b[0m\u001b[43m3\u001b[0m\u001b[43m3\u001b[0m\u001b[42m1\u001b[0m\u001b[44m4\u001b[0m\u001b[44m4\u001b[0m\u001b[41m6\u001b[0m\u001b[42m1\u001b[0m\u001b[42m1\u001b[0m\u001b[44m4\u001b[0m\u001b[41m6\u001b[0m\u001b[43m3\u001b[0m\u001b[43m3\u001b[0m\u001b[42m1\u001b[0m\u001b[41m6\u001b[0m\u001b[44m4\u001b[0m\u001b[43m3\u001b[0m\u001b[43m3\u001b[0m\u001b[44m4\u001b[0m\u001b[44m4\u001b[0m\u001b[44m4\u001b[0m\u001b[42m1\u001b[0m\u001b[44m4\u001b[0m\u001b[43m3\u001b[0m\u001b[44m4\u001b[0m\u001b[44m4\u001b[0m\u001b[42m1\u001b[0m\u001b[44m4\u001b[0m\u001b[44m4\u001b[0m\u001b[41m6\u001b[0m\u001b[44m4\u001b[0m\u001b[44m4\u001b[0m\u001b[41m6\u001b[0m\u001b[43m3\u001b[0m\u001b[43m3\u001b[0m\u001b[44m4\u001b[0m\u001b[41m6\u001b[0m\u001b[44m4\u001b[0m\u001b[42m1\u001b[0m\u001b[43m3\u001b[0m\u001b[44m4\u001b[0m\u001b[41m6\u001b[0m\u001b[41m6\u001b[0m\u001b[44m4\u001b[0m\u001b[42m1\u001b[0m\u001b[41m6\u001b[0m\u001b[42m1\u001b[0m\u001b[44m4\u001b[0m\u001b[43m3\u001b[0m\u001b[44m4\u001b[0m\u001b[44m4\u001b[0m\u001b[43m3\u001b[0m\u001b[42m1\u001b[0m\u001b[44m4\u001b[0m\u001b[44m4\u001b[0m\u001b[44m4\u001b[0m\u001b[43m3\u001b[0m\u001b[44m4\u001b[0m\u001b[42m1\u001b[0m\u001b[42m1\u001b[0m\u001b[42m1\u001b[0m\u001b[44m4\u001b[0m\u001b[44m4\u001b[0m\u001b[44m4\u001b[0m\u001b[44m4\u001b[0m\u001b[44m4\u001b[0m\u001b[43m3\u001b[0m\u001b[44m4\u001b[0m\u001b[42m1\u001b[0m\u001b[42m1\u001b[0m\u001b[41m6\u001b[0m\u001b[41m6\u001b[0m\u001b[43m3\u001b[0m\u001b[44m4\u001b[0m\u001b[43m3\u001b[0m\u001b[43m3\u001b[0m\u001b[43m3\u001b[0m\u001b[44m4\u001b[0m\u001b[42m1\u001b[0m\u001b[44m4\u001b[0m\u001b[42m1\u001b[0m\u001b[43m3\u001b[0m\u001b[44m4\u001b[0m\u001b[44m4\u001b[0m\u001b[44m4\u001b[0m\u001b[44m4\u001b[0m\u001b[44m4\u001b[0m\u001b[43m3\u001b[0m\u001b[41m6\u001b[0m\u001b[44m4\u001b[0m\u001b[44m4\u001b[0m\u001b[43m3\u001b[0m\u001b[41m6\u001b[0m\u001b[42m1\u001b[0m\u001b[43m3\u001b[0m\u001b[42m1\u001b[0m\u001b[44m4\u001b[0m\u001b[42m1\u001b[0m\u001b[44m4\u001b[0m\u001b[42m1\u001b[0m\u001b[43m3\u001b[0m\u001b[44m4\u001b[0m\u001b[43m3\u001b[0m\u001b[44m4\u001b[0m\u001b[42m1\u001b[0m\u001b[43m3\u001b[0m\u001b[44m4\u001b[0m\u001b[42m1\u001b[0m\u001b[42m1\u001b[0m\u001b[42m1\u001b[0m\u001b[44m4\u001b[0m\u001b[44m4\u001b[0m\u001b[44m4\u001b[0m\u001b[44m4\u001b[0m\u001b[44m4\u001b[0m\u001b[41m6\u001b[0m\u001b[43m3\u001b[0m\u001b[43m3\u001b[0m\u001b[42m1\u001b[0m\u001b[44m4\u001b[0m\u001b[42m1\u001b[0m\u001b[43m3\u001b[0m\u001b[41m6\u001b[0m\u001b[43m3\u001b[0m\u001b[44m4\u001b[0m\u001b[43m3\u001b[0m\u001b[44m4\u001b[0m\u001b[44m4\u001b[0m\u001b[44m4\u001b[0m\u001b[44m4\u001b[0m\u001b[41m6\u001b[0m\u001b[43m3\u001b[0m\u001b[41m6\u001b[0m\u001b[44m4\u001b[0m\u001b[43m3\u001b[0m\u001b[43m3\u001b[0m\u001b[44m4\u001b[0m\u001b[44m4\u001b[0m\u001b[43m3\u001b[0m\u001b[44m4\u001b[0m\u001b[43m3\u001b[0m\u001b[44m4\u001b[0m\u001b[42m1\u001b[0m\u001b[43m3\u001b[0m\u001b[44m4\u001b[0m\u001b[43m3\u001b[0m\u001b[44m4\u001b[0m\u001b[42m1\u001b[0m\u001b[42m1\u001b[0m\u001b[43m3\u001b[0m\u001b[43m3\u001b[0m\u001b[44m4\u001b[0m\u001b[41m6\u001b[0m\u001b[43m3\u001b[0m\u001b[41m6\u001b[0m\u001b[43m3\u001b[0m\u001b[42m1\u001b[0m\u001b[43m3\u001b[0m\u001b[44m4\u001b[0m\u001b[42m1\u001b[0m\u001b[44m4\u001b[0m\u001b[41m6\u001b[0m\u001b[44m4\u001b[0m\u001b[41m6\u001b[0m\u001b[44m4\u001b[0m\u001b[42m1\u001b[0m\u001b[44m4\u001b[0m\u001b[44m4\u001b[0m\u001b[44m4\u001b[0m\u001b[44m4\u001b[0m\u001b[44m4\u001b[0m\u001b[44m4\u001b[0m\u001b[41m6\u001b[0m\u001b[44m4\u001b[0m\u001b[44m4\u001b[0m\u001b[44m4\u001b[0m\u001b[44m4\u001b[0m\u001b[44m4\u001b[0m\u001b[42m1\u001b[0m\u001b[43m3\u001b[0m\u001b[44m4\u001b[0m\u001b[43m3\u001b[0m\u001b[41m6\u001b[0m\u001b[42m1\u001b[0m\u001b[42m1\u001b[0m\u001b[41m6\u001b[0m\u001b[44m4\u001b[0m\u001b[41m6\u001b[0m\u001b[43m3\u001b[0m\u001b[44m4\u001b[0m\u001b[44m4\u001b[0m\u001b[43m3\u001b[0m\u001b[43m3\u001b[0m\u001b[41m6\u001b[0m\u001b[41m6\u001b[0m\u001b[44m4\u001b[0m\u001b[42m1\u001b[0m\u001b[43m3\u001b[0m\u001b[42m1\u001b[0m\u001b[43m3\u001b[0m\u001b[43m3\u001b[0m\u001b[44m4\u001b[0m\u001b[44m4\u001b[0m\u001b[43m3\u001b[0m\u001b[41m6\u001b[0m\u001b[44m4\u001b[0m\u001b[41m6\u001b[0m\u001b[43m3\u001b[0m\u001b[44m4\u001b[0m\u001b[44m4\u001b[0m\u001b[42m1\u001b[0m\u001b[41m6\u001b[0m\u001b[43m3\u001b[0m\u001b[43m3\u001b[0m\u001b[43m3\u001b[0m\u001b[44m4\u001b[0m\u001b[44m4\u001b[0m\u001b[44m4\u001b[0m\u001b[44m4\u001b[0m\u001b[41m6\u001b[0m\u001b[44m4\u001b[0m\u001b[44m4\u001b[0m\u001b[44m4\u001b[0m\u001b[43m3\u001b[0m\u001b[41m6\u001b[0m\u001b[42m1\u001b[0m\u001b[43m3\u001b[0m\u001b[44m4\u001b[0m\u001b[43m3\u001b[0m\u001b[44m4\u001b[0m\u001b[41m6\u001b[0m\u001b[43m3\u001b[0m\u001b[43m3\u001b[0m\u001b[43m3\u001b[0m\u001b[42m1\u001b[0m\u001b[44m4\u001b[0m\u001b[43m3\u001b[0m\u001b[43m3\u001b[0m\u001b[44m4\u001b[0m\u001b[44m4\u001b[0m\u001b[43m3\u001b[0m\u001b[44m4\u001b[0m\u001b[42m1\u001b[0m\u001b[44m4\u001b[0m\u001b[44m4\u001b[0m\u001b[43m3\u001b[0m\u001b[42m1\u001b[0m\u001b[42m1\u001b[0m\u001b[43m3\u001b[0m\u001b[42m1\u001b[0m\u001b[44m4\u001b[0m\u001b[43m3\u001b[0m\u001b[43m3\u001b[0m\u001b[43m3\u001b[0m\u001b[42m1\u001b[0m\u001b[42m1\u001b[0m\u001b[42m1\u001b[0m\u001b[44m4\u001b[0m\u001b[44m4\u001b[0m\u001b[44m4\u001b[0m\u001b[42m1\u001b[0m\u001b[44m4\u001b[0m\u001b[43m3\u001b[0m\u001b[44m4\u001b[0m\u001b[43m3\u001b[0m\u001b[44m4\u001b[0m\u001b[43m3\u001b[0m\u001b[43m3\u001b[0m\u001b[44m4\u001b[0m\u001b[43m3\u001b[0m\u001b[43m3\u001b[0m\u001b[43m3\u001b[0m\u001b[44m4\u001b[0m\u001b[42m1\u001b[0m\u001b[43m3\u001b[0m\u001b[43m3\u001b[0m\u001b[42m1\u001b[0m\u001b[44m4\u001b[0m\u001b[43m3\u001b[0m\u001b[42m1\u001b[0m\u001b[43m3\u001b[0m\u001b[42m1\u001b[0m\u001b[41m6\u001b[0m\u001b[44m4\u001b[0m\u001b[43m3\u001b[0m\u001b[42m1\u001b[0m\u001b[42m1\u001b[0m\u001b[44m4\u001b[0m\u001b[44m4\u001b[0m\u001b[42m1\u001b[0m\u001b[43m3\u001b[0m\u001b[42m1\u001b[0m\u001b[44m4\u001b[0m\u001b[44m4\u001b[0m\u001b[44m4\u001b[0m\u001b[42m1\u001b[0m\u001b[44m4\u001b[0m\u001b[43m3\u001b[0m\u001b[43m3\u001b[0m\u001b[43m3\u001b[0m\u001b[44m4\u001b[0m\u001b[42m1\u001b[0m\u001b[44m4\u001b[0m\u001b[43m3\u001b[0m\u001b[44m4\u001b[0m\u001b[43m3\u001b[0m\u001b[44m4\u001b[0m\u001b[44m4\u001b[0m\u001b[41m6\u001b[0m\u001b[44m4\u001b[0m\u001b[44m4\u001b[0m\u001b[42m1\u001b[0m\u001b[41m6\u001b[0m\u001b[44m4\u001b[0m\u001b[42m1\u001b[0m\u001b[44m4\u001b[0m\u001b[42m1\u001b[0m\u001b[44m4\u001b[0m\u001b[44m4\u001b[0m\u001b[44m4\u001b[0m\u001b[42m1\u001b[0m\u001b[44m4\u001b[0m\u001b[44m4\u001b[0m\u001b[42m1\u001b[0m\u001b[44m4\u001b[0m\u001b[44m4\u001b[0m\u001b[41m6\u001b[0m\u001b[42m1\u001b[0m\u001b[42m1\u001b[0m\u001b[44m4\u001b[0m\u001b[43m3\u001b[0m\u001b[43m3\u001b[0m\u001b[43m3\u001b[0m\u001b[43m3\u001b[0m\u001b[44m4\u001b[0m\u001b[44m4\u001b[0m\u001b[44m4\u001b[0m\u001b[43m3\u001b[0m\u001b[41m6\u001b[0m\u001b[43m3\u001b[0m\u001b[44m4\u001b[0m\u001b[42m1\u001b[0m\u001b[44m4\u001b[0m\u001b[42m1\u001b[0m\u001b[44m4\u001b[0m\u001b[43m3\u001b[0m\u001b[43m3\u001b[0m\u001b[43m3\u001b[0m\u001b[43m3\u001b[0m\u001b[43m3\u001b[0m\u001b[42m1\u001b[0m\u001b[44m4\u001b[0m\u001b[43m3\u001b[0m\u001b[44m4\u001b[0m\u001b[43m3\u001b[0m\u001b[43m3\u001b[0m\u001b[42m1\u001b[0m\u001b[44m4\u001b[0m\u001b[43m3\u001b[0m\u001b[43m3\u001b[0m\u001b[43m3\u001b[0m\u001b[43m3\u001b[0m\u001b[42m1\u001b[0m\u001b[43m3\u001b[0m\u001b[44m4\u001b[0m\u001b[42m1\u001b[0m\u001b[44m4\u001b[0m\u001b[41m6\u001b[0m\u001b[41m6\u001b[0m\u001b[44m4\u001b[0m\u001b[43m3\u001b[0m\u001b[44m4\u001b[0m\u001b[44m4\u001b[0m\u001b[44m4\u001b[0m\u001b[42m1\u001b[0m\u001b[43m3\u001b[0m\u001b[44m4\u001b[0m\u001b[44m4\u001b[0m\u001b[42m1\u001b[0m\u001b[42m1\u001b[0m\u001b[43m3\u001b[0m\u001b[43m3\u001b[0m\u001b[44m4\u001b[0m\u001b[43m3\u001b[0m\u001b[42m1\u001b[0m\u001b[44m4\u001b[0m\u001b[42m1\u001b[0m\u001b[43m3\u001b[0m\u001b[44m4\u001b[0m\u001b[43m3\u001b[0m\u001b[44m4\u001b[0m\u001b[43m3\u001b[0m\u001b[43m3\u001b[0m\u001b[44m4\u001b[0m\u001b[44m4\u001b[0m\u001b[41m6\u001b[0m\u001b[41m6\u001b[0m\u001b[43m3\u001b[0m\u001b[44m4\u001b[0m\u001b[44m4\u001b[0m\u001b[43m3\u001b[0m\u001b[44m4\u001b[0m\u001b[44m4\u001b[0m\u001b[44m4\u001b[0m\u001b[42m1\u001b[0m\u001b[43m3\u001b[0m\u001b[43m3\u001b[0m\u001b[41m6\u001b[0m\u001b[42m1\u001b[0m\u001b[43m3\u001b[0m\u001b[44m4\u001b[0m\u001b[44m4\u001b[0m\u001b[44m4\u001b[0m\u001b[42m1\u001b[0m\u001b[44m4\u001b[0m\u001b[42m1\u001b[0m\u001b[41m6\u001b[0m\u001b[41m6\u001b[0m\u001b[44m4\u001b[0m\u001b[44m4\u001b[0m\u001b[43m3\u001b[0m\u001b[44m4\u001b[0m\u001b[44m4\u001b[0m\u001b[44m4\u001b[0m\u001b[42m1\u001b[0m\u001b[44m4\u001b[0m\u001b[44m4\u001b[0m\u001b[42m1\u001b[0m\u001b[43m3\u001b[0m\u001b[43m3\u001b[0m\u001b[44m4\u001b[0m\u001b[43m3\u001b[0m\u001b[42m1\u001b[0m\u001b[44m4\u001b[0m\u001b[44m4\u001b[0m\u001b[42m1\u001b[0m\u001b[43m3\u001b[0m\u001b[44m4\u001b[0m\u001b[44m4\u001b[0m\u001b[44m4\u001b[0m\u001b[44m4\u001b[0m\u001b[44m4\u001b[0m\u001b[42m1\u001b[0m\u001b[43m3\u001b[0m\u001b[43m3\u001b[0m\u001b[41m6\u001b[0m\u001b[44m4\u001b[0m\u001b[44m4\u001b[0m\u001b[44m4\u001b[0m\u001b[44m4\u001b[0m\u001b[43m3\u001b[0m\u001b[43m3\u001b[0m\u001b[44m4\u001b[0m\u001b[43m3\u001b[0m\u001b[44m4\u001b[0m\u001b[44m4\u001b[0m\u001b[43m3\u001b[0m\u001b[42m1\u001b[0m\u001b[42m1\u001b[0m\u001b[41m6\u001b[0m\u001b[41m6\u001b[0m\u001b[43m3\u001b[0m\u001b[42m1\u001b[0m\u001b[44m4\u001b[0m\u001b[41m6\u001b[0m\u001b[44m4\u001b[0m\u001b[44m4\u001b[0m\u001b[44m4\u001b[0m\u001b[44m4\u001b[0m\u001b[44m4\u001b[0m\u001b[43m3\u001b[0m\u001b[43m3\u001b[0m\u001b[44m4\u001b[0m\u001b[44m4\u001b[0m\u001b[44m4\u001b[0m\u001b[44m4\u001b[0m\u001b[44m4\u001b[0m\u001b[42m1\u001b[0m\u001b[44m4\u001b[0m\u001b[44m4\u001b[0m\u001b[41m6\u001b[0m\u001b[43m3\u001b[0m\u001b[42m1\u001b[0m\u001b[42m1\u001b[0m\u001b[44m4\u001b[0m\u001b[41m6\u001b[0m\u001b[44m4\u001b[0m\u001b[44m4\u001b[0m\u001b[44m4\u001b[0m\u001b[43m3\u001b[0m\u001b[44m4\u001b[0m\u001b[41m6\u001b[0m\n",
            "\n",
            "\u001b[41m6\u001b[0m probability=0.10 frequency= 92/1000 = 0.09 \n",
            "\u001b[42m1\u001b[0m probability=0.20 frequency= 216/1000 = 0.22 \n",
            "\u001b[43m3\u001b[0m probability=0.30 frequency= 298/1000 = 0.30 \n",
            "\u001b[44m4\u001b[0m probability=0.40 frequency= 394/1000 = 0.39 \n"
          ],
          "name": "stdout"
        }
      ]
    }
  ]
}