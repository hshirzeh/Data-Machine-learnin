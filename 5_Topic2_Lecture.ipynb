{
  "nbformat": 4,
  "nbformat_minor": 0,
  "metadata": {
    "anaconda-cloud": {},
    "celltoolbar": "Slideshow",
    "kernelspec": {
      "display_name": "Python 3",
      "language": "python",
      "name": "python3"
    },
    "language_info": {
      "codemirror_mode": {
        "name": "ipython",
        "version": 3
      },
      "file_extension": ".py",
      "mimetype": "text/x-python",
      "name": "python",
      "nbconvert_exporter": "python",
      "pygments_lexer": "ipython3",
      "version": "3.6.5"
    },
    "toc": {
      "base_numbering": 1,
      "nav_menu": {
        "height": "103px",
        "width": "252px"
      },
      "number_sections": true,
      "sideBar": true,
      "skip_h1_title": false,
      "title_cell": "Table of Contents",
      "title_sidebar": "Contents",
      "toc_cell": false,
      "toc_position": {},
      "toc_section_display": "block",
      "toc_window_display": false
    },
    "varInspector": {
      "cols": {
        "lenName": 16,
        "lenType": 16,
        "lenVar": 40
      },
      "kernels_config": {
        "python": {
          "delete_cmd_postfix": "",
          "delete_cmd_prefix": "del ",
          "library": "var_list.py",
          "varRefreshCmd": "print(var_dic_list())"
        },
        "r": {
          "delete_cmd_postfix": ") ",
          "delete_cmd_prefix": "rm(",
          "library": "var_list.r",
          "varRefreshCmd": "cat(var_dic_list()) "
        }
      },
      "types_to_exclude": [
        "module",
        "function",
        "builtin_function_or_method",
        "instance",
        "_Feature"
      ],
      "window_display": false
    },
    "colab": {
      "name": "Topic2_Lecture.ipynb",
      "provenance": [],
      "include_colab_link": true
    }
  },
  "cells": [
    {
      "cell_type": "markdown",
      "metadata": {
        "id": "view-in-github",
        "colab_type": "text"
      },
      "source": [
        "<a href=\"https://colab.research.google.com/github/hshirzeh/Data-Machine-learnin/blob/main/5_Topic2_Lecture.ipynb\" target=\"_parent\"><img src=\"https://colab.research.google.com/assets/colab-badge.svg\" alt=\"Open In Colab\"/></a>"
      ]
    },
    {
      "cell_type": "markdown",
      "metadata": {
        "run_control": {
          "frozen": false,
          "read_only": false
        },
        "id": "JvmV2VPKDpIe"
      },
      "source": [
        "## Sets in Python\n",
        "* Python has a data type called `set` \n",
        "* close to, but not the same as, mathematical sets.\n",
        "* A set is initialized using a list, or a tuple, containing elements."
      ]
    },
    {
      "cell_type": "code",
      "metadata": {
        "colab": {
          "base_uri": "https://localhost:8080/"
        },
        "id": "0xlj24jODpIi",
        "outputId": "540baa99-5a2d-4792-ff82-4e6490d928c1"
      },
      "source": [
        "# A set of numbers\n",
        "set([1,2,30])"
      ],
      "execution_count": 1,
      "outputs": [
        {
          "output_type": "execute_result",
          "data": {
            "text/plain": [
              "{1, 2, 30}"
            ]
          },
          "metadata": {
            "tags": []
          },
          "execution_count": 1
        }
      ]
    },
    {
      "cell_type": "code",
      "metadata": {
        "colab": {
          "base_uri": "https://localhost:8080/"
        },
        "id": "h1kkcQFHDpIn",
        "outputId": "a1b03f87-324b-4e19-e509-f149c1424df7"
      },
      "source": [
        "# order is not presenrved\n",
        "# When printing out a set, the elements will be listed \n",
        "# A set of strings\n",
        "set(['this','that','the other'])"
      ],
      "execution_count": 2,
      "outputs": [
        {
          "output_type": "execute_result",
          "data": {
            "text/plain": [
              "{'that', 'the other', 'this'}"
            ]
          },
          "metadata": {
            "tags": []
          },
          "execution_count": 2
        }
      ]
    },
    {
      "cell_type": "code",
      "metadata": {
        "colab": {
          "base_uri": "https://localhost:8080/"
        },
        "id": "uKZCbLatDpIo",
        "outputId": "0320d50f-1a72-4a98-9e21-e46e28345a64"
      },
      "source": [
        "# each element can appear in a set only once.\n",
        "set([1,2,3,2])"
      ],
      "execution_count": 3,
      "outputs": [
        {
          "output_type": "execute_result",
          "data": {
            "text/plain": [
              "{1, 2, 3}"
            ]
          },
          "metadata": {
            "tags": []
          },
          "execution_count": 3
        }
      ]
    },
    {
      "cell_type": "markdown",
      "metadata": {
        "id": "PBwYYLsLDpIp"
      },
      "source": [
        "more commands creating and editing sets"
      ]
    },
    {
      "cell_type": "code",
      "metadata": {
        "id": "QFLuROniDpIq"
      },
      "source": [
        "# Create an empty set\n",
        "A = set()"
      ],
      "execution_count": 4,
      "outputs": []
    },
    {
      "cell_type": "code",
      "metadata": {
        "colab": {
          "base_uri": "https://localhost:8080/"
        },
        "id": "u5B0VbhGDpIq",
        "outputId": "cb566887-370f-4760-a5e8-d2bbf2b04f99"
      },
      "source": [
        "# Add elements from a set\n",
        "A = set()\n",
        "A.update({0, 10})\n",
        "print(A)"
      ],
      "execution_count": 5,
      "outputs": [
        {
          "output_type": "stream",
          "text": [
            "{0, 10}\n"
          ],
          "name": "stdout"
        }
      ]
    },
    {
      "cell_type": "code",
      "metadata": {
        "colab": {
          "base_uri": "https://localhost:8080/"
        },
        "id": "vxFXBJKTDpIr",
        "outputId": "336bd4c6-99da-466f-8cb4-bab195695ab3"
      },
      "source": [
        "# Delete an element from a set\n",
        "A = {1, 2, 3}\n",
        "A.remove(2)       # Works only if the element to be deleted is present in the set\n",
        "A.discard(4)      # Works even if the element to be deleted is not present in the set\n",
        "A.discard(3)      \n",
        "print(A)"
      ],
      "execution_count": 6,
      "outputs": [
        {
          "output_type": "stream",
          "text": [
            "{1}\n"
          ],
          "name": "stdout"
        }
      ]
    },
    {
      "cell_type": "code",
      "metadata": {
        "colab": {
          "base_uri": "https://localhost:8080/"
        },
        "id": "ZoV6RdEGDpIs",
        "outputId": "4b355c1d-3288-4973-e42c-34bc56720448"
      },
      "source": [
        "# Remove a random element from a set\n",
        "A = {1, 2, 3}\n",
        "A.pop()\n",
        "print(A)"
      ],
      "execution_count": 7,
      "outputs": [
        {
          "output_type": "stream",
          "text": [
            "{2, 3}\n"
          ],
          "name": "stdout"
        }
      ]
    },
    {
      "cell_type": "code",
      "metadata": {
        "colab": {
          "base_uri": "https://localhost:8080/"
        },
        "id": "SyY9HbOqDpIt",
        "outputId": "8e481cac-fe46-4908-f1b8-32b2eb8de8bd"
      },
      "source": [
        "A = {-1,2,1, 3}\n",
        "A.pop()\n",
        "print(A)"
      ],
      "execution_count": 8,
      "outputs": [
        {
          "output_type": "stream",
          "text": [
            "{2, 3, -1}\n"
          ],
          "name": "stdout"
        }
      ]
    },
    {
      "cell_type": "code",
      "metadata": {
        "colab": {
          "base_uri": "https://localhost:8080/"
        },
        "id": "peB98kZDDpIu",
        "outputId": "de249648-0fd2-459b-cd13-47f0799e0394"
      },
      "source": [
        "# Get a sorted list from a set\n",
        "A = {1, 10, 4, -9, 7, 8, -6, 3, 2}\n",
        "print(sorted(A))"
      ],
      "execution_count": 9,
      "outputs": [
        {
          "output_type": "stream",
          "text": [
            "[-9, -6, 1, 2, 3, 4, 7, 8, 10]\n"
          ],
          "name": "stdout"
        }
      ]
    },
    {
      "cell_type": "markdown",
      "metadata": {
        "id": "_TQEQgTKDpIv"
      },
      "source": [
        "## Elements of sets must be immutable\n",
        "While in mathematics anything can be an element of a set, in Python an element has to be\n",
        "**immutable** and **hashable** i.e. an object with a fixed value. Immutable objects include numbers, strings and tuples. "
      ]
    },
    {
      "cell_type": "code",
      "metadata": {
        "colab": {
          "base_uri": "https://localhost:8080/"
        },
        "id": "ycHLGhITDpIv",
        "outputId": "67ac4943-e7f4-4097-d381-6dc13acb4b35"
      },
      "source": [
        "#elements can be tuples\n",
        "set([(1,2),(1,3),(3,1)])"
      ],
      "execution_count": 10,
      "outputs": [
        {
          "output_type": "execute_result",
          "data": {
            "text/plain": [
              "{(1, 2), (1, 3), (3, 1)}"
            ]
          },
          "metadata": {
            "tags": []
          },
          "execution_count": 10
        }
      ]
    },
    {
      "cell_type": "code",
      "metadata": {
        "colab": {
          "base_uri": "https://localhost:8080/",
          "height": 181
        },
        "id": "locNjIOTDpIw",
        "outputId": "4881ebdc-3d2b-407c-9e0e-7dda9ee95cf2"
      },
      "source": [
        "# but cannot be lists\n",
        "set([[1,2],[1,3],[3,1]])"
      ],
      "execution_count": 11,
      "outputs": [
        {
          "output_type": "error",
          "ename": "TypeError",
          "evalue": "ignored",
          "traceback": [
            "\u001b[0;31m---------------------------------------------------------------------------\u001b[0m",
            "\u001b[0;31mTypeError\u001b[0m                                 Traceback (most recent call last)",
            "\u001b[0;32m<ipython-input-11-4f5951c01ff9>\u001b[0m in \u001b[0;36m<module>\u001b[0;34m()\u001b[0m\n\u001b[1;32m      1\u001b[0m \u001b[0;31m# but cannot be lists\u001b[0m\u001b[0;34m\u001b[0m\u001b[0;34m\u001b[0m\u001b[0;34m\u001b[0m\u001b[0m\n\u001b[0;32m----> 2\u001b[0;31m \u001b[0mset\u001b[0m\u001b[0;34m(\u001b[0m\u001b[0;34m[\u001b[0m\u001b[0;34m[\u001b[0m\u001b[0;36m1\u001b[0m\u001b[0;34m,\u001b[0m\u001b[0;36m2\u001b[0m\u001b[0;34m]\u001b[0m\u001b[0;34m,\u001b[0m\u001b[0;34m[\u001b[0m\u001b[0;36m1\u001b[0m\u001b[0;34m,\u001b[0m\u001b[0;36m3\u001b[0m\u001b[0;34m]\u001b[0m\u001b[0;34m,\u001b[0m\u001b[0;34m[\u001b[0m\u001b[0;36m3\u001b[0m\u001b[0;34m,\u001b[0m\u001b[0;36m1\u001b[0m\u001b[0;34m]\u001b[0m\u001b[0;34m]\u001b[0m\u001b[0;34m)\u001b[0m\u001b[0;34m\u001b[0m\u001b[0;34m\u001b[0m\u001b[0m\n\u001b[0m",
            "\u001b[0;31mTypeError\u001b[0m: unhashable type: 'list'"
          ]
        }
      ]
    },
    {
      "cell_type": "markdown",
      "metadata": {
        "id": "r2gYvlIODpIx"
      },
      "source": [
        "## Operations on sets\n",
        "Python defines many operations on sets. Most operations come in two forms: as a method, and as an overload of mathematical operators.\n",
        "\n",
        "\n",
        "For a full description of operations on sets for Python 3.6 look [here](https://docs.python.org/3.6/tutorial/datastructures.html#sets)"
      ]
    },
    {
      "cell_type": "code",
      "metadata": {
        "colab": {
          "base_uri": "https://localhost:8080/"
        },
        "id": "R4zyD0EADpIx",
        "outputId": "08625a7a-d999-41d8-9833-d2a2f8c78571"
      },
      "source": [
        "A=set(range(0,3)) # all integers between 0 and 2\n",
        "B=set(range(0,6,2)) # even integers between 0 and 2\n",
        "C=set(range(0,6))   # all integers between 0 and 5\n",
        "'A=',A,'B=',B,'C=',C"
      ],
      "execution_count": 12,
      "outputs": [
        {
          "output_type": "execute_result",
          "data": {
            "text/plain": [
              "('A=', {0, 1, 2}, 'B=', {0, 2, 4}, 'C=', {0, 1, 2, 3, 4, 5})"
            ]
          },
          "metadata": {
            "tags": []
          },
          "execution_count": 12
        }
      ]
    },
    {
      "cell_type": "code",
      "metadata": {
        "colab": {
          "base_uri": "https://localhost:8080/"
        },
        "id": "iuwUmKJADpIy",
        "outputId": "3afd740f-57cd-44ab-9f08-4210495085fd"
      },
      "source": [
        "## Checking if an element is in a set:\n",
        "1 in A, 1 in B, 3 not in B"
      ],
      "execution_count": 13,
      "outputs": [
        {
          "output_type": "execute_result",
          "data": {
            "text/plain": [
              "(True, False, True)"
            ]
          },
          "metadata": {
            "tags": []
          },
          "execution_count": 13
        }
      ]
    },
    {
      "cell_type": "code",
      "metadata": {
        "colab": {
          "base_uri": "https://localhost:8080/"
        },
        "id": "z-CiZjODDpIz",
        "outputId": "b4fb252a-36e0-42d1-e154-9576ddbd82c0"
      },
      "source": [
        "A.issubset(C), A<=C"
      ],
      "execution_count": 14,
      "outputs": [
        {
          "output_type": "execute_result",
          "data": {
            "text/plain": [
              "(True, True)"
            ]
          },
          "metadata": {
            "tags": []
          },
          "execution_count": 14
        }
      ]
    },
    {
      "cell_type": "code",
      "metadata": {
        "colab": {
          "base_uri": "https://localhost:8080/"
        },
        "id": "LwfnoXhCDpIz",
        "outputId": "459a37e7-e717-4197-fc69-f2ade40166f6"
      },
      "source": [
        "C.issuperset(B),C>=B"
      ],
      "execution_count": 15,
      "outputs": [
        {
          "output_type": "execute_result",
          "data": {
            "text/plain": [
              "(True, True)"
            ]
          },
          "metadata": {
            "tags": []
          },
          "execution_count": 15
        }
      ]
    },
    {
      "cell_type": "code",
      "metadata": {
        "colab": {
          "base_uri": "https://localhost:8080/"
        },
        "id": "V8UhqudRDpI0",
        "outputId": "7dca6b9f-da22-44a1-c45d-72b9701642b7"
      },
      "source": [
        "A.union(B),A | B"
      ],
      "execution_count": 16,
      "outputs": [
        {
          "output_type": "execute_result",
          "data": {
            "text/plain": [
              "({0, 1, 2, 4}, {0, 1, 2, 4})"
            ]
          },
          "metadata": {
            "tags": []
          },
          "execution_count": 16
        }
      ]
    },
    {
      "cell_type": "code",
      "metadata": {
        "colab": {
          "base_uri": "https://localhost:8080/"
        },
        "id": "KBeD66RcDpI1",
        "outputId": "0965630f-ae92-48d3-814c-2d45d7be3606"
      },
      "source": [
        "A.intersection(B), A&B"
      ],
      "execution_count": 17,
      "outputs": [
        {
          "output_type": "execute_result",
          "data": {
            "text/plain": [
              "({0, 2}, {0, 2})"
            ]
          },
          "metadata": {
            "tags": []
          },
          "execution_count": 17
        }
      ]
    },
    {
      "cell_type": "code",
      "metadata": {
        "colab": {
          "base_uri": "https://localhost:8080/"
        },
        "id": "oVyvN5PeDpI1",
        "outputId": "bd9c9f4e-57f6-4ef3-ac21-384a84d601c1"
      },
      "source": [
        "# The difference between A and B contains all elements that are in A but not in B\n",
        "A.difference(B), A-B"
      ],
      "execution_count": 18,
      "outputs": [
        {
          "output_type": "execute_result",
          "data": {
            "text/plain": [
              "({1}, {1})"
            ]
          },
          "metadata": {
            "tags": []
          },
          "execution_count": 18
        }
      ]
    },
    {
      "cell_type": "code",
      "metadata": {
        "colab": {
          "base_uri": "https://localhost:8080/"
        },
        "id": "lp-tmCgBDpI2",
        "outputId": "831d4016-071b-4094-b342-11e436c1bb08"
      },
      "source": [
        "# The symetric difference contains all elements that are in one of the two sets, but not in both\n",
        "A.symmetric_difference(B), A^B"
      ],
      "execution_count": 19,
      "outputs": [
        {
          "output_type": "execute_result",
          "data": {
            "text/plain": [
              "({1, 4}, {1, 4})"
            ]
          },
          "metadata": {
            "tags": []
          },
          "execution_count": 19
        }
      ]
    },
    {
      "cell_type": "markdown",
      "metadata": {
        "id": "j3qgHT5GDpI4"
      },
      "source": [
        "### Finding the primes\n",
        "The following program finds the prime numbers between $2$ and $k$."
      ]
    },
    {
      "cell_type": "markdown",
      "metadata": {
        "id": "YOuQhaFQDpI4"
      },
      "source": [
        "It stars with a set of all of the integers between `2` and `k`, which is called `I`.\n",
        "\n",
        "It then removes all multiples of `2`, all multiples of `3`, all multiples of `4` etc.  \n",
        "Ending with $\\sqrt{k}$.\n",
        "\n",
        "It does so by using the set substraction operation `A-=B`"
      ]
    },
    {
      "cell_type": "markdown",
      "metadata": {
        "id": "P6W1uQ09DpI5"
      },
      "source": [
        "It is enough to multiples of numbers up to $\\sqrt{k}$ because any non-prime number has at least one factor that is smaller that $\\sqrt{k}$. \n",
        "\n",
        "* Prove by contradiction.\n"
      ]
    },
    {
      "cell_type": "code",
      "metadata": {
        "colab": {
          "base_uri": "https://localhost:8080/"
        },
        "id": "jWdGVgQkDpI6",
        "outputId": "76a9217d-d860-4d11-b755-46207d517d5e"
      },
      "source": [
        "from math import sqrt\n",
        "k=100\n",
        "I=set(range(2,k))\n",
        "print('start, remaining=%d'%len(I))\n",
        "\n",
        "for j in range(2,int(sqrt(k))+1):\n",
        "    I-=set(range(2*j,k,j))\n",
        "    print('iteration=%d, remaining=%d'%(j,len(I)))"
      ],
      "execution_count": 21,
      "outputs": [
        {
          "output_type": "stream",
          "text": [
            "start, remaining=98\n",
            "iteration=2, remaining=50\n",
            "iteration=3, remaining=34\n",
            "iteration=4, remaining=34\n",
            "iteration=5, remaining=28\n",
            "iteration=6, remaining=28\n",
            "iteration=7, remaining=25\n",
            "iteration=8, remaining=25\n",
            "iteration=9, remaining=25\n",
            "iteration=10, remaining=25\n"
          ],
          "name": "stdout"
        }
      ]
    },
    {
      "cell_type": "code",
      "metadata": {
        "colab": {
          "base_uri": "https://localhost:8080/",
          "height": 35
        },
        "id": "HUfEeDANDpI8",
        "outputId": "7c6983e0-d1b9-49f8-915e-29852a4d569b"
      },
      "source": [
        "','.join([str(i) for i in I])"
      ],
      "execution_count": 22,
      "outputs": [
        {
          "output_type": "execute_result",
          "data": {
            "application/vnd.google.colaboratory.intrinsic+json": {
              "type": "string"
            },
            "text/plain": [
              "'2,3,5,7,11,13,17,19,23,29,31,37,41,43,47,53,59,61,67,71,73,79,83,89,97'"
            ]
          },
          "metadata": {
            "tags": []
          },
          "execution_count": 22
        }
      ]
    },
    {
      "cell_type": "markdown",
      "metadata": {
        "id": "07W-mZtYDpI8"
      },
      "source": [
        "### Computing the cartesian Product\n"
      ]
    },
    {
      "cell_type": "code",
      "metadata": {
        "id": "qXLVhDdRDpI8"
      },
      "source": [
        "A=set(['a','b','c'])\n",
        "B=set([1,2])"
      ],
      "execution_count": 23,
      "outputs": []
    },
    {
      "cell_type": "code",
      "metadata": {
        "colab": {
          "base_uri": "https://localhost:8080/"
        },
        "id": "MQ1VKVD_DpI9",
        "outputId": "f5fd4b62-cb5d-4939-c143-0f825ce26d77"
      },
      "source": [
        "C=set()\n",
        "for x in A:\n",
        "    for y in B:\n",
        "        C.add((x,y))\n",
        "C"
      ],
      "execution_count": 24,
      "outputs": [
        {
          "output_type": "execute_result",
          "data": {
            "text/plain": [
              "{('a', 1), ('a', 2), ('b', 1), ('b', 2), ('c', 1), ('c', 2)}"
            ]
          },
          "metadata": {
            "tags": []
          },
          "execution_count": 24
        }
      ]
    }
  ]
}